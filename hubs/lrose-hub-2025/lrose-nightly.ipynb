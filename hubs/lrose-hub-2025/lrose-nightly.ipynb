{
 "cells": [
  {
   "cell_type": "markdown",
   "id": "572bf1fd-5c82-49c6-8e25-61bf60a7ce3a",
   "metadata": {},
   "source": [
    "# LROSE Nightly\n",
    "\n",
    "The LROSE Science Gateway is equipped not only with the most recent [stable LROSE release](https://github.com/NCAR/lrose-core/releases/), but also a bleeding edge nightly build of LROSE with all the newest features and bug fixes.\n",
    "\n",
    "## Installation Locations\n",
    "\n",
    "You can find the stable and nightly LROSE installations at the following paths:\n",
    "\n",
    "- Stable: `/usr/local/lrose`\n",
    "- Nightly: `/share/lrose-nightly`\n",
    "\n",
    "By default all terminals and notebooks will use the stable LROSE release as defined in the `PATH` and `LD_LIBRARY_PATH` environment variables. You can confirm this by running the following in a JupyterLab terminal:\n",
    "\n",
    "```bash\n",
    "$ echo $PATH\n",
    "$ echo $LD_LIBRARY_PATH\n",
    "$ which RadxConvert\n",
    "$ ldd $(which RadxConvert) | head\n",
    "```\n",
    "\n",
    "Or by running the following notebook cell:"
   ]
  },
  {
   "cell_type": "code",
   "execution_count": null,
   "id": "d4e2f41f-7f9d-48a1-b3ac-4c508acf3b46",
   "metadata": {},
   "outputs": [],
   "source": [
    "import os\n",
    "\n",
    "print(os.environ['PATH'])\n",
    "print(os.environ['PATH'])\n",
    "!which RadxConvert\n",
    "!ldd $(which RadxConvert) | head"
   ]
  },
  {
   "cell_type": "markdown",
   "id": "2313c103-7960-49ed-94aa-2c82d5ae7511",
   "metadata": {},
   "source": [
    "## Using a Different Installation\n",
    "\n",
    "Note that in both `PATH` and `LD_LIBRARY_PATH` you'll find both the stable and nightly release paths, however, whichever path comes first will take priority.\n",
    "\n",
    "The LROSE Science Gateway provides two convenience scripts for switching between the stable and nightly LROSE builds, one for use in a terminal, and the other for use in notebooks:\n",
    "\n",
    "- Terminal: `/lrose-swap-install.sh`\n",
    "- Notebook: `/lrose-swap-install.py`\n",
    "\n",
    "Each of these will reconfigure `PATH` and `LD_LIBRARY_PATH` to toggle between the stable and nightly installations. Additionally, you can supply the script with the `show` argument to simply print which installation is currently being used.\n",
    "\n",
    "Note that these two scripts will toggle the installations *only* for the current terminal session/notebook. If you open a new terminal session or create a new notebook, you must rerun the script in the new environment to re-toggle the installtion.\n",
    "\n",
    "### Terminal\n",
    "\n",
    "When running the `/lrose-swap-install.sh` script, it *must* be `source`'ed to operate on your current environment.\n",
    "\n",
    "```bash\n",
    "# See and confirm which install you're currently using\n",
    "$ source /lrose-swap-install.sh show\n",
    "$ which RadxConvert\n",
    "$ ldd $(which RadxConvert) | head\n",
    "```\n",
    "\n",
    "```bash\n",
    "# Swap to a different install\n",
    "$ source /lrose-swap-install.sh\n",
    "$ which RadxConvert\n",
    "$ ldd $(which RadxConvert) | head\n",
    "```\n",
    "\n",
    "```bash\n",
    "# Swap back :)\n",
    "$ source /lrose-swap-install.sh\n",
    "$ which RadxConvert\n",
    "$ ldd $(which RadxConvert) | head\n",
    "```\n",
    "\n",
    "### Notebook\n",
    "\n",
    "To run the `/lrose-swap-install.py` script from within a notebook, you will need to use the `%run` magic:"
   ]
  },
  {
   "cell_type": "code",
   "execution_count": null,
   "id": "d05532d6-6c14-4214-83b9-e2973ebd1a9d",
   "metadata": {},
   "outputs": [],
   "source": [
    "import os\n",
    "\n",
    "# See and confirm which install you're currently using\n",
    "%run /lrose-swap-install.py show\n",
    "!which RadxConvert\n",
    "!ldd $(which RadxConvert) | head"
   ]
  },
  {
   "cell_type": "code",
   "execution_count": null,
   "id": "34a126bc-a049-4d75-bd9e-fdad785a3f15",
   "metadata": {},
   "outputs": [],
   "source": [
    "# Swap to a different install\n",
    "%run /lrose-swap-install.py\n",
    "!which RadxConvert\n",
    "!ldd $(which RadxConvert) | head"
   ]
  },
  {
   "cell_type": "code",
   "execution_count": null,
   "id": "c26684da-5017-4fcd-a46f-5bbcb26c6647",
   "metadata": {},
   "outputs": [],
   "source": [
    "# Swap back :)\n",
    "%run /lrose-swap-install.py\n",
    "!which RadxConvert\n",
    "!ldd $(which RadxConvert) | head"
   ]
  }
 ],
 "metadata": {
  "kernelspec": {
   "display_name": "Python [conda env:lrose-hub-2025]",
   "language": "python",
   "name": "conda-env-lrose-hub-2025-py"
  },
  "language_info": {
   "codemirror_mode": {
    "name": "ipython",
    "version": 3
   },
   "file_extension": ".py",
   "mimetype": "text/x-python",
   "name": "python",
   "nbconvert_exporter": "python",
   "pygments_lexer": "ipython3",
   "version": "3.13.3"
  }
 },
 "nbformat": 4,
 "nbformat_minor": 5
}
